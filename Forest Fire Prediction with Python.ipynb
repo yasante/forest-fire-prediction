{
 "cells": [
  {
   "cell_type": "markdown",
   "metadata": {},
   "source": [
    "You must develop logistic regression, decision tree and neural network models that will identify\n",
    "whether a fire will occur. You can use Orange, Python, R, or any machine learning package of\n",
    "your choice. The data for the assignment is in a file forestdata.csv, which you can download\n",
    "from the same place you found this document. The data dictionary is given at the end of this\n",
    "document. You must follow the correct methodology to use the data to build and test your\n",
    "models.\n",
    "\n",
    "\n",
    " - A single example of how you used a histogram to detect an error in the data and what\n",
    "you did to fix that error. \n",
    " - A table showing the different models and hyper parameters you trained, along with the\n",
    "correct metric for each; Add a sentence on how you chose the hyper parameter values."
   ]
  },
  {
   "cell_type": "code",
   "execution_count": 65,
   "metadata": {},
   "outputs": [],
   "source": [
    "import numpy as np\n",
    "import pandas as pd\n",
    "import matplotlib.pyplot as plt\n",
    "import seaborn as sns\n",
    "import calendar\n",
    "import warnings\n",
    "\n",
    "# import scikit-learn packages\n",
    "from sklearn.model_selection import train_test_split\n",
    "from sklearn.preprocessing import LabelEncoder, StandardScaler\n",
    "\n",
    "from sklearn.linear_model import LogisticRegression\n",
    "from sklearn.tree import DecisionTreeClassifier, export_graphviz\n",
    "from sklearn.neural_network import MLPClassifier\n",
    "\n",
    "from sklearn.metrics import mean_squared_error\n",
    "from sklearn.metrics import accuracy_score\n",
    "from sklearn.model_selection import GridSearchCV, RandomizedSearchCV\n",
    "from sklearn.metrics import confusion_matrix, ConfusionMatrixDisplay, plot_confusion_matrix\n",
    "\n",
    "warnings.filterwarnings(\"ignore\")\n",
    "pd.pandas.set_option('display.max_columns',None)\n",
    "pd.pandas.set_option('display.max_rows',None)"
   ]
  },
  {
   "cell_type": "code",
   "execution_count": 66,
   "metadata": {},
   "outputs": [
    {
     "data": {
      "text/html": [
       "<div>\n",
       "<style scoped>\n",
       "    .dataframe tbody tr th:only-of-type {\n",
       "        vertical-align: middle;\n",
       "    }\n",
       "\n",
       "    .dataframe tbody tr th {\n",
       "        vertical-align: top;\n",
       "    }\n",
       "\n",
       "    .dataframe thead th {\n",
       "        text-align: right;\n",
       "    }\n",
       "</style>\n",
       "<table border=\"1\" class=\"dataframe\">\n",
       "  <thead>\n",
       "    <tr style=\"text-align: right;\">\n",
       "      <th></th>\n",
       "      <th>collector.id</th>\n",
       "      <th>c.score</th>\n",
       "      <th>l.score</th>\n",
       "      <th>rain</th>\n",
       "      <th>tree.age</th>\n",
       "      <th>surface.litter</th>\n",
       "      <th>wind.intensity</th>\n",
       "      <th>humidity</th>\n",
       "      <th>tree.density</th>\n",
       "      <th>month</th>\n",
       "      <th>time.of.day</th>\n",
       "      <th>fire</th>\n",
       "    </tr>\n",
       "  </thead>\n",
       "  <tbody>\n",
       "    <tr>\n",
       "      <th>0</th>\n",
       "      <td>5</td>\n",
       "      <td>13.11</td>\n",
       "      <td>3.421591</td>\n",
       "      <td>0.477187</td>\n",
       "      <td>34.66</td>\n",
       "      <td>6.718047</td>\n",
       "      <td>3.335635</td>\n",
       "      <td>52.0</td>\n",
       "      <td>0.69860</td>\n",
       "      <td>8</td>\n",
       "      <td>afternoon</td>\n",
       "      <td>1</td>\n",
       "    </tr>\n",
       "    <tr>\n",
       "      <th>1</th>\n",
       "      <td>7</td>\n",
       "      <td>11.99</td>\n",
       "      <td>2.874611</td>\n",
       "      <td>0.212425</td>\n",
       "      <td>19.39</td>\n",
       "      <td>6.242029</td>\n",
       "      <td>3.127024</td>\n",
       "      <td>59.0</td>\n",
       "      <td>0.62020</td>\n",
       "      <td>4</td>\n",
       "      <td>morning</td>\n",
       "      <td>0</td>\n",
       "    </tr>\n",
       "    <tr>\n",
       "      <th>2</th>\n",
       "      <td>6</td>\n",
       "      <td>12.91</td>\n",
       "      <td>2.827774</td>\n",
       "      <td>0.118141</td>\n",
       "      <td>15.75</td>\n",
       "      <td>6.397929</td>\n",
       "      <td>3.052446</td>\n",
       "      <td>60.0</td>\n",
       "      <td>0.58235</td>\n",
       "      <td>10</td>\n",
       "      <td>night</td>\n",
       "      <td>0</td>\n",
       "    </tr>\n",
       "    <tr>\n",
       "      <th>3</th>\n",
       "      <td>5</td>\n",
       "      <td>12.06</td>\n",
       "      <td>2.772961</td>\n",
       "      <td>0.097565</td>\n",
       "      <td>13.25</td>\n",
       "      <td>6.278146</td>\n",
       "      <td>3.114239</td>\n",
       "      <td>60.0</td>\n",
       "      <td>0.57025</td>\n",
       "      <td>9</td>\n",
       "      <td>afternoon</td>\n",
       "      <td>1</td>\n",
       "    </tr>\n",
       "    <tr>\n",
       "      <th>4</th>\n",
       "      <td>2</td>\n",
       "      <td>15.06</td>\n",
       "      <td>3.271684</td>\n",
       "      <td>0.438121</td>\n",
       "      <td>47.14</td>\n",
       "      <td>6.932448</td>\n",
       "      <td>3.214831</td>\n",
       "      <td>51.0</td>\n",
       "      <td>0.71150</td>\n",
       "      <td>7</td>\n",
       "      <td>morning</td>\n",
       "      <td>1</td>\n",
       "    </tr>\n",
       "  </tbody>\n",
       "</table>\n",
       "</div>"
      ],
      "text/plain": [
       "   collector.id  c.score   l.score      rain  tree.age  surface.litter  \\\n",
       "0             5    13.11  3.421591  0.477187     34.66        6.718047   \n",
       "1             7    11.99  2.874611  0.212425     19.39        6.242029   \n",
       "2             6    12.91  2.827774  0.118141     15.75        6.397929   \n",
       "3             5    12.06  2.772961  0.097565     13.25        6.278146   \n",
       "4             2    15.06  3.271684  0.438121     47.14        6.932448   \n",
       "\n",
       "   wind.intensity  humidity  tree.density  month time.of.day  fire  \n",
       "0        3.335635      52.0       0.69860      8   afternoon     1  \n",
       "1        3.127024      59.0       0.62020      4     morning     0  \n",
       "2        3.052446      60.0       0.58235     10       night     0  \n",
       "3        3.114239      60.0       0.57025      9   afternoon     1  \n",
       "4        3.214831      51.0       0.71150      7     morning     1  "
      ]
     },
     "execution_count": 66,
     "metadata": {},
     "output_type": "execute_result"
    }
   ],
   "source": [
    "# Loading data\n",
    "data = pd.read_csv('forestdata.csv')\n",
    "data.head()"
   ]
  },
  {
   "cell_type": "code",
   "execution_count": 67,
   "metadata": {},
   "outputs": [],
   "source": [
    "# data cleaning\n",
    "def clean(rdata):\n",
    "\n",
    "    # change dots(.) to underscores(_) in column names\n",
    "    rdata.columns = rdata.columns.str.replace('.', '_')\n",
    "\n",
    "    # Change day of the day \n",
    "    rdata.loc[rdata['time_of_day'] == 'morni7ng', 'time_of_day'] = 'morning'\n",
    "\n",
    "    # encode time of day and month as onehot approach function\n",
    "    for cat in rdata['time_of_day'].unique():\n",
    "        rdata[cat] = np.where(rdata['time_of_day'] == cat, 1, 0)\n",
    "\n",
    "    for mon in rdata['month'].unique():\n",
    "        rdata[f'month_{mon}'] = np.where(rdata['month'] == mon, 1, 0)\n",
    "\n",
    "    # drop missing values and unrequired columns\n",
    "    rdata = rdata.drop(['collector_id', 'time_of_day', 'month'], axis=1).dropna()\n",
    "\n",
    "    # trim df\n",
    "    keep = (rdata['tree_age'] < 250) & (rdata['c_score'] < 250) & (rdata['humidity'] > 30) \n",
    "    nwdata = rdata[keep]\n",
    "\n",
    "    return nwdata\n",
    "\n",
    "    \n",
    "\n",
    "df = clean(data)"
   ]
  },
  {
   "cell_type": "code",
   "execution_count": 68,
   "metadata": {},
   "outputs": [
    {
     "data": {
      "text/html": [
       "<div>\n",
       "<style scoped>\n",
       "    .dataframe tbody tr th:only-of-type {\n",
       "        vertical-align: middle;\n",
       "    }\n",
       "\n",
       "    .dataframe tbody tr th {\n",
       "        vertical-align: top;\n",
       "    }\n",
       "\n",
       "    .dataframe thead th {\n",
       "        text-align: right;\n",
       "    }\n",
       "</style>\n",
       "<table border=\"1\" class=\"dataframe\">\n",
       "  <thead>\n",
       "    <tr style=\"text-align: right;\">\n",
       "      <th></th>\n",
       "      <th>c_score</th>\n",
       "      <th>l_score</th>\n",
       "      <th>rain</th>\n",
       "      <th>tree_age</th>\n",
       "      <th>surface_litter</th>\n",
       "      <th>wind_intensity</th>\n",
       "      <th>humidity</th>\n",
       "      <th>tree_density</th>\n",
       "      <th>fire</th>\n",
       "      <th>afternoon</th>\n",
       "      <th>morning</th>\n",
       "      <th>night</th>\n",
       "      <th>month_8</th>\n",
       "      <th>month_4</th>\n",
       "      <th>month_10</th>\n",
       "      <th>month_9</th>\n",
       "      <th>month_7</th>\n",
       "      <th>month_2</th>\n",
       "      <th>month_1</th>\n",
       "      <th>month_12</th>\n",
       "      <th>month_3</th>\n",
       "      <th>month_11</th>\n",
       "      <th>month_6</th>\n",
       "      <th>month_5</th>\n",
       "    </tr>\n",
       "  </thead>\n",
       "  <tbody>\n",
       "    <tr>\n",
       "      <th>0</th>\n",
       "      <td>13.11</td>\n",
       "      <td>3.421591</td>\n",
       "      <td>0.477187</td>\n",
       "      <td>34.66</td>\n",
       "      <td>6.718047</td>\n",
       "      <td>3.335635</td>\n",
       "      <td>52.0</td>\n",
       "      <td>0.69860</td>\n",
       "      <td>1</td>\n",
       "      <td>1</td>\n",
       "      <td>0</td>\n",
       "      <td>0</td>\n",
       "      <td>1</td>\n",
       "      <td>0</td>\n",
       "      <td>0</td>\n",
       "      <td>0</td>\n",
       "      <td>0</td>\n",
       "      <td>0</td>\n",
       "      <td>0</td>\n",
       "      <td>0</td>\n",
       "      <td>0</td>\n",
       "      <td>0</td>\n",
       "      <td>0</td>\n",
       "      <td>0</td>\n",
       "    </tr>\n",
       "    <tr>\n",
       "      <th>1</th>\n",
       "      <td>11.99</td>\n",
       "      <td>2.874611</td>\n",
       "      <td>0.212425</td>\n",
       "      <td>19.39</td>\n",
       "      <td>6.242029</td>\n",
       "      <td>3.127024</td>\n",
       "      <td>59.0</td>\n",
       "      <td>0.62020</td>\n",
       "      <td>0</td>\n",
       "      <td>0</td>\n",
       "      <td>1</td>\n",
       "      <td>0</td>\n",
       "      <td>0</td>\n",
       "      <td>1</td>\n",
       "      <td>0</td>\n",
       "      <td>0</td>\n",
       "      <td>0</td>\n",
       "      <td>0</td>\n",
       "      <td>0</td>\n",
       "      <td>0</td>\n",
       "      <td>0</td>\n",
       "      <td>0</td>\n",
       "      <td>0</td>\n",
       "      <td>0</td>\n",
       "    </tr>\n",
       "    <tr>\n",
       "      <th>2</th>\n",
       "      <td>12.91</td>\n",
       "      <td>2.827774</td>\n",
       "      <td>0.118141</td>\n",
       "      <td>15.75</td>\n",
       "      <td>6.397929</td>\n",
       "      <td>3.052446</td>\n",
       "      <td>60.0</td>\n",
       "      <td>0.58235</td>\n",
       "      <td>0</td>\n",
       "      <td>0</td>\n",
       "      <td>0</td>\n",
       "      <td>1</td>\n",
       "      <td>0</td>\n",
       "      <td>0</td>\n",
       "      <td>1</td>\n",
       "      <td>0</td>\n",
       "      <td>0</td>\n",
       "      <td>0</td>\n",
       "      <td>0</td>\n",
       "      <td>0</td>\n",
       "      <td>0</td>\n",
       "      <td>0</td>\n",
       "      <td>0</td>\n",
       "      <td>0</td>\n",
       "    </tr>\n",
       "    <tr>\n",
       "      <th>3</th>\n",
       "      <td>12.06</td>\n",
       "      <td>2.772961</td>\n",
       "      <td>0.097565</td>\n",
       "      <td>13.25</td>\n",
       "      <td>6.278146</td>\n",
       "      <td>3.114239</td>\n",
       "      <td>60.0</td>\n",
       "      <td>0.57025</td>\n",
       "      <td>1</td>\n",
       "      <td>1</td>\n",
       "      <td>0</td>\n",
       "      <td>0</td>\n",
       "      <td>0</td>\n",
       "      <td>0</td>\n",
       "      <td>0</td>\n",
       "      <td>1</td>\n",
       "      <td>0</td>\n",
       "      <td>0</td>\n",
       "      <td>0</td>\n",
       "      <td>0</td>\n",
       "      <td>0</td>\n",
       "      <td>0</td>\n",
       "      <td>0</td>\n",
       "      <td>0</td>\n",
       "    </tr>\n",
       "    <tr>\n",
       "      <th>4</th>\n",
       "      <td>15.06</td>\n",
       "      <td>3.271684</td>\n",
       "      <td>0.438121</td>\n",
       "      <td>47.14</td>\n",
       "      <td>6.932448</td>\n",
       "      <td>3.214831</td>\n",
       "      <td>51.0</td>\n",
       "      <td>0.71150</td>\n",
       "      <td>1</td>\n",
       "      <td>0</td>\n",
       "      <td>1</td>\n",
       "      <td>0</td>\n",
       "      <td>0</td>\n",
       "      <td>0</td>\n",
       "      <td>0</td>\n",
       "      <td>0</td>\n",
       "      <td>1</td>\n",
       "      <td>0</td>\n",
       "      <td>0</td>\n",
       "      <td>0</td>\n",
       "      <td>0</td>\n",
       "      <td>0</td>\n",
       "      <td>0</td>\n",
       "      <td>0</td>\n",
       "    </tr>\n",
       "  </tbody>\n",
       "</table>\n",
       "</div>"
      ],
      "text/plain": [
       "   c_score   l_score      rain  tree_age  surface_litter  wind_intensity  \\\n",
       "0    13.11  3.421591  0.477187     34.66        6.718047        3.335635   \n",
       "1    11.99  2.874611  0.212425     19.39        6.242029        3.127024   \n",
       "2    12.91  2.827774  0.118141     15.75        6.397929        3.052446   \n",
       "3    12.06  2.772961  0.097565     13.25        6.278146        3.114239   \n",
       "4    15.06  3.271684  0.438121     47.14        6.932448        3.214831   \n",
       "\n",
       "   humidity  tree_density  fire  afternoon  morning  night  month_8  month_4  \\\n",
       "0      52.0       0.69860     1          1        0      0        1        0   \n",
       "1      59.0       0.62020     0          0        1      0        0        1   \n",
       "2      60.0       0.58235     0          0        0      1        0        0   \n",
       "3      60.0       0.57025     1          1        0      0        0        0   \n",
       "4      51.0       0.71150     1          0        1      0        0        0   \n",
       "\n",
       "   month_10  month_9  month_7  month_2  month_1  month_12  month_3  month_11  \\\n",
       "0         0        0        0        0        0         0        0         0   \n",
       "1         0        0        0        0        0         0        0         0   \n",
       "2         1        0        0        0        0         0        0         0   \n",
       "3         0        1        0        0        0         0        0         0   \n",
       "4         0        0        1        0        0         0        0         0   \n",
       "\n",
       "   month_6  month_5  \n",
       "0        0        0  \n",
       "1        0        0  \n",
       "2        0        0  \n",
       "3        0        0  \n",
       "4        0        0  "
      ]
     },
     "execution_count": 68,
     "metadata": {},
     "output_type": "execute_result"
    }
   ],
   "source": [
    "df.head()"
   ]
  },
  {
   "cell_type": "code",
   "execution_count": 69,
   "metadata": {},
   "outputs": [
    {
     "name": "stdout",
     "output_type": "stream",
     "text": [
      "<class 'pandas.core.frame.DataFrame'>\n",
      "Int64Index: 441 entries, 0 to 455\n",
      "Data columns (total 24 columns):\n",
      " #   Column          Non-Null Count  Dtype  \n",
      "---  ------          --------------  -----  \n",
      " 0   c_score         441 non-null    float64\n",
      " 1   l_score         441 non-null    float64\n",
      " 2   rain            441 non-null    float64\n",
      " 3   tree_age        441 non-null    float64\n",
      " 4   surface_litter  441 non-null    float64\n",
      " 5   wind_intensity  441 non-null    float64\n",
      " 6   humidity        441 non-null    float64\n",
      " 7   tree_density    441 non-null    float64\n",
      " 8   fire            441 non-null    int64  \n",
      " 9   afternoon       441 non-null    int32  \n",
      " 10  morning         441 non-null    int32  \n",
      " 11  night           441 non-null    int32  \n",
      " 12  month_8         441 non-null    int32  \n",
      " 13  month_4         441 non-null    int32  \n",
      " 14  month_10        441 non-null    int32  \n",
      " 15  month_9         441 non-null    int32  \n",
      " 16  month_7         441 non-null    int32  \n",
      " 17  month_2         441 non-null    int32  \n",
      " 18  month_1         441 non-null    int32  \n",
      " 19  month_12        441 non-null    int32  \n",
      " 20  month_3         441 non-null    int32  \n",
      " 21  month_11        441 non-null    int32  \n",
      " 22  month_6         441 non-null    int32  \n",
      " 23  month_5         441 non-null    int32  \n",
      "dtypes: float64(8), int32(15), int64(1)\n",
      "memory usage: 60.3 KB\n"
     ]
    }
   ],
   "source": [
    "df.info()"
   ]
  },
  {
   "cell_type": "markdown",
   "metadata": {},
   "source": [
    "### Pre-modeling"
   ]
  },
  {
   "cell_type": "code",
   "execution_count": 70,
   "metadata": {},
   "outputs": [],
   "source": [
    "# Select numeric values and categorical values\n",
    "categ = df.select_dtypes('int')\n",
    "numer = df.select_dtypes(['float'])"
   ]
  },
  {
   "cell_type": "code",
   "execution_count": 71,
   "metadata": {},
   "outputs": [],
   "source": [
    "# Standardization of numeric values\n",
    "scaler = StandardScaler()\n",
    "for col in numer:\n",
    "    df[col] = scaler.fit_transform(numer[col].values.reshape(-1, 1))"
   ]
  },
  {
   "cell_type": "code",
   "execution_count": null,
   "metadata": {},
   "outputs": [],
   "source": [
    "# Performance Evaluation\n",
    "def perf_eval(stdmodel, best_model, X, y):\n",
    "    print ('Evaluating the model training data \\n')\n",
    "\n",
    "    def standard():\n",
    "        pred_y = stdmodel.predict(X)\n",
    "        accuracy = accuracy_score(y, pred_y)\n",
    "        return f\"Standard Model: accuracy score: {accuracy}\"\n",
    "\n",
    "    def hyper_tuned():\n",
    "        pred_y = best_model.predict(X)\n",
    "        accuracy = accuracy_score(y, pred_y)\n",
    "        return f\"Hyper_tuned Model: accuracy score: {accuracy}\"\n",
    "\n",
    "    return standard(), hyper_tuned()"
   ]
  },
  {
   "cell_type": "code",
   "execution_count": 80,
   "metadata": {},
   "outputs": [],
   "source": [
    "# Confusion Matrix plot\n",
    "def plot_cm(model, X, y):\n",
    "    fig, ax = plt.subplots(figsize=(10, 10))\n",
    "    graph_plot = plot_confusion_matrix(\n",
    "        model, X, y, labels = best_log_mod.classes_, \n",
    "        display_labels=['fire', 'no fire'], ax=ax # check the order\n",
    "        )\n",
    "    return graph_plot"
   ]
  },
  {
   "cell_type": "code",
   "execution_count": 73,
   "metadata": {},
   "outputs": [
    {
     "data": {
      "text/html": [
       "<div>\n",
       "<style scoped>\n",
       "    .dataframe tbody tr th:only-of-type {\n",
       "        vertical-align: middle;\n",
       "    }\n",
       "\n",
       "    .dataframe tbody tr th {\n",
       "        vertical-align: top;\n",
       "    }\n",
       "\n",
       "    .dataframe thead th {\n",
       "        text-align: right;\n",
       "    }\n",
       "</style>\n",
       "<table border=\"1\" class=\"dataframe\">\n",
       "  <thead>\n",
       "    <tr style=\"text-align: right;\">\n",
       "      <th></th>\n",
       "      <th>c_score</th>\n",
       "      <th>l_score</th>\n",
       "      <th>rain</th>\n",
       "      <th>tree_age</th>\n",
       "      <th>surface_litter</th>\n",
       "      <th>wind_intensity</th>\n",
       "      <th>humidity</th>\n",
       "      <th>tree_density</th>\n",
       "      <th>fire</th>\n",
       "      <th>afternoon</th>\n",
       "      <th>morning</th>\n",
       "      <th>night</th>\n",
       "      <th>month_8</th>\n",
       "      <th>month_4</th>\n",
       "      <th>month_10</th>\n",
       "      <th>month_9</th>\n",
       "      <th>month_7</th>\n",
       "      <th>month_2</th>\n",
       "      <th>month_1</th>\n",
       "      <th>month_12</th>\n",
       "      <th>month_3</th>\n",
       "      <th>month_11</th>\n",
       "      <th>month_6</th>\n",
       "      <th>month_5</th>\n",
       "    </tr>\n",
       "  </thead>\n",
       "  <tbody>\n",
       "    <tr>\n",
       "      <th>0</th>\n",
       "      <td>-0.287623</td>\n",
       "      <td>1.379156</td>\n",
       "      <td>1.198519</td>\n",
       "      <td>-0.134324</td>\n",
       "      <td>0.185434</td>\n",
       "      <td>2.559853</td>\n",
       "      <td>-0.883253</td>\n",
       "      <td>1.303150</td>\n",
       "      <td>1</td>\n",
       "      <td>1</td>\n",
       "      <td>0</td>\n",
       "      <td>0</td>\n",
       "      <td>1</td>\n",
       "      <td>0</td>\n",
       "      <td>0</td>\n",
       "      <td>0</td>\n",
       "      <td>0</td>\n",
       "      <td>0</td>\n",
       "      <td>0</td>\n",
       "      <td>0</td>\n",
       "      <td>0</td>\n",
       "      <td>0</td>\n",
       "      <td>0</td>\n",
       "      <td>0</td>\n",
       "    </tr>\n",
       "    <tr>\n",
       "      <th>1</th>\n",
       "      <td>-0.606775</td>\n",
       "      <td>-0.414086</td>\n",
       "      <td>-0.147774</td>\n",
       "      <td>-0.549812</td>\n",
       "      <td>-0.669293</td>\n",
       "      <td>-0.058923</td>\n",
       "      <td>0.478006</td>\n",
       "      <td>0.120308</td>\n",
       "      <td>0</td>\n",
       "      <td>0</td>\n",
       "      <td>1</td>\n",
       "      <td>0</td>\n",
       "      <td>0</td>\n",
       "      <td>1</td>\n",
       "      <td>0</td>\n",
       "      <td>0</td>\n",
       "      <td>0</td>\n",
       "      <td>0</td>\n",
       "      <td>0</td>\n",
       "      <td>0</td>\n",
       "      <td>0</td>\n",
       "      <td>0</td>\n",
       "      <td>0</td>\n",
       "      <td>0</td>\n",
       "    </tr>\n",
       "    <tr>\n",
       "      <th>2</th>\n",
       "      <td>-0.344614</td>\n",
       "      <td>-0.567640</td>\n",
       "      <td>-0.627202</td>\n",
       "      <td>-0.648855</td>\n",
       "      <td>-0.389361</td>\n",
       "      <td>-0.995130</td>\n",
       "      <td>0.672471</td>\n",
       "      <td>-0.450745</td>\n",
       "      <td>0</td>\n",
       "      <td>0</td>\n",
       "      <td>0</td>\n",
       "      <td>1</td>\n",
       "      <td>0</td>\n",
       "      <td>0</td>\n",
       "      <td>1</td>\n",
       "      <td>0</td>\n",
       "      <td>0</td>\n",
       "      <td>0</td>\n",
       "      <td>0</td>\n",
       "      <td>0</td>\n",
       "      <td>0</td>\n",
       "      <td>0</td>\n",
       "      <td>0</td>\n",
       "      <td>0</td>\n",
       "    </tr>\n",
       "    <tr>\n",
       "      <th>3</th>\n",
       "      <td>-0.586828</td>\n",
       "      <td>-0.747340</td>\n",
       "      <td>-0.731832</td>\n",
       "      <td>-0.716878</td>\n",
       "      <td>-0.604441</td>\n",
       "      <td>-0.219417</td>\n",
       "      <td>0.672471</td>\n",
       "      <td>-0.633301</td>\n",
       "      <td>1</td>\n",
       "      <td>1</td>\n",
       "      <td>0</td>\n",
       "      <td>0</td>\n",
       "      <td>0</td>\n",
       "      <td>0</td>\n",
       "      <td>0</td>\n",
       "      <td>1</td>\n",
       "      <td>0</td>\n",
       "      <td>0</td>\n",
       "      <td>0</td>\n",
       "      <td>0</td>\n",
       "      <td>0</td>\n",
       "      <td>0</td>\n",
       "      <td>0</td>\n",
       "      <td>0</td>\n",
       "    </tr>\n",
       "    <tr>\n",
       "      <th>4</th>\n",
       "      <td>0.268045</td>\n",
       "      <td>0.887695</td>\n",
       "      <td>0.999873</td>\n",
       "      <td>0.205250</td>\n",
       "      <td>0.570408</td>\n",
       "      <td>1.043348</td>\n",
       "      <td>-1.077718</td>\n",
       "      <td>1.497776</td>\n",
       "      <td>1</td>\n",
       "      <td>0</td>\n",
       "      <td>1</td>\n",
       "      <td>0</td>\n",
       "      <td>0</td>\n",
       "      <td>0</td>\n",
       "      <td>0</td>\n",
       "      <td>0</td>\n",
       "      <td>1</td>\n",
       "      <td>0</td>\n",
       "      <td>0</td>\n",
       "      <td>0</td>\n",
       "      <td>0</td>\n",
       "      <td>0</td>\n",
       "      <td>0</td>\n",
       "      <td>0</td>\n",
       "    </tr>\n",
       "  </tbody>\n",
       "</table>\n",
       "</div>"
      ],
      "text/plain": [
       "    c_score   l_score      rain  tree_age  surface_litter  wind_intensity  \\\n",
       "0 -0.287623  1.379156  1.198519 -0.134324        0.185434        2.559853   \n",
       "1 -0.606775 -0.414086 -0.147774 -0.549812       -0.669293       -0.058923   \n",
       "2 -0.344614 -0.567640 -0.627202 -0.648855       -0.389361       -0.995130   \n",
       "3 -0.586828 -0.747340 -0.731832 -0.716878       -0.604441       -0.219417   \n",
       "4  0.268045  0.887695  0.999873  0.205250        0.570408        1.043348   \n",
       "\n",
       "   humidity  tree_density  fire  afternoon  morning  night  month_8  month_4  \\\n",
       "0 -0.883253      1.303150     1          1        0      0        1        0   \n",
       "1  0.478006      0.120308     0          0        1      0        0        1   \n",
       "2  0.672471     -0.450745     0          0        0      1        0        0   \n",
       "3  0.672471     -0.633301     1          1        0      0        0        0   \n",
       "4 -1.077718      1.497776     1          0        1      0        0        0   \n",
       "\n",
       "   month_10  month_9  month_7  month_2  month_1  month_12  month_3  month_11  \\\n",
       "0         0        0        0        0        0         0        0         0   \n",
       "1         0        0        0        0        0         0        0         0   \n",
       "2         1        0        0        0        0         0        0         0   \n",
       "3         0        1        0        0        0         0        0         0   \n",
       "4         0        0        1        0        0         0        0         0   \n",
       "\n",
       "   month_6  month_5  \n",
       "0        0        0  \n",
       "1        0        0  \n",
       "2        0        0  \n",
       "3        0        0  \n",
       "4        0        0  "
      ]
     },
     "execution_count": 73,
     "metadata": {},
     "output_type": "execute_result"
    }
   ],
   "source": [
    "df.head()"
   ]
  },
  {
   "cell_type": "code",
   "execution_count": 74,
   "metadata": {},
   "outputs": [],
   "source": [
    "y = df.fire\n",
    "X = df.drop('fire', axis=1)\n",
    "\n",
    "X_train, X_test, y_train, y_test = train_test_split(X, y, test_size = 0.2, random_state = 42)"
   ]
  },
  {
   "cell_type": "markdown",
   "metadata": {},
   "source": [
    "# Model Building\n",
    "---"
   ]
  },
  {
   "cell_type": "markdown",
   "metadata": {},
   "source": [
    "## 1. Logistic Regression"
   ]
  },
  {
   "cell_type": "code",
   "execution_count": 75,
   "metadata": {},
   "outputs": [],
   "source": [
    "logit = LogisticRegression()\n",
    "log_model = logit.fit(X_train, y_train)"
   ]
  },
  {
   "cell_type": "markdown",
   "metadata": {},
   "source": [
    "### Hyperparameter tuning"
   ]
  },
  {
   "cell_type": "code",
   "execution_count": 76,
   "metadata": {},
   "outputs": [
    {
     "name": "stdout",
     "output_type": "stream",
     "text": [
      "Fitting 5 folds for each of 1008 candidates, totalling 5040 fits\n"
     ]
    },
    {
     "data": {
      "text/plain": [
       "LogisticRegression(C=10, penalty='l1', solver='liblinear')"
      ]
     },
     "execution_count": 76,
     "metadata": {},
     "output_type": "execute_result"
    }
   ],
   "source": [
    "param_grid = {\n",
    "    'C': [0.001, 0.01, 0.1, 1, 10, 100, 1000],\n",
    "    'penalty': ['l1', 'l2', 'elasticnet', None],\n",
    "    'solver': ['lbfgs', 'liblinear', 'newton-cg', 'newton-cholesky', 'sag', 'saga'],\n",
    "    'max_iter': [100, 500, 1000, 2500, 3500, 5000]\n",
    "              }\n",
    "\n",
    "grid_search = GridSearchCV(logit, param_grid=param_grid, scoring='accuracy', cv=5, verbose=True)\n",
    "\n",
    "best_log_mod = grid_search.fit(X_train, y_train)\n",
    "\n",
    "best_log_mod.best_estimator_"
   ]
  },
  {
   "cell_type": "markdown",
   "metadata": {},
   "source": [
    "### Performance evaluation"
   ]
  },
  {
   "cell_type": "markdown",
   "metadata": {},
   "source": [
    "#### Training data"
   ]
  },
  {
   "cell_type": "code",
   "execution_count": 107,
   "metadata": {},
   "outputs": [
    {
     "name": "stdout",
     "output_type": "stream",
     "text": [
      "Evaluating the model training data \n",
      "\n"
     ]
    },
    {
     "data": {
      "text/plain": [
       "('Standard Model: accuracy score: 0.90625',\n",
       " 'Hyper_tuned Model: accuracy score: 0.8352272727272727')"
      ]
     },
     "execution_count": 107,
     "metadata": {},
     "output_type": "execute_result"
    }
   ],
   "source": [
    "perf_eval(logit, best_log_mod, X_train, y_train)"
   ]
  },
  {
   "cell_type": "markdown",
   "metadata": {},
   "source": [
    "#### Testing data"
   ]
  },
  {
   "cell_type": "code",
   "execution_count": 108,
   "metadata": {},
   "outputs": [
    {
     "name": "stdout",
     "output_type": "stream",
     "text": [
      "Evaluating the model training data \n",
      "\n"
     ]
    },
    {
     "data": {
      "text/plain": [
       "('Standard Model: accuracy score: 0.8764044943820225',\n",
       " 'Hyper_tuned Model: accuracy score: 0.8426966292134831')"
      ]
     },
     "execution_count": 108,
     "metadata": {},
     "output_type": "execute_result"
    }
   ],
   "source": [
    "perf_eval(logit, best_log_mod, X_test, y_test)"
   ]
  },
  {
   "cell_type": "markdown",
   "metadata": {},
   "source": [
    "#### Confusion Matrix"
   ]
  },
  {
   "cell_type": "code",
   "execution_count": 81,
   "metadata": {},
   "outputs": [
    {
     "data": {
      "text/plain": [
       "<sklearn.metrics._plot.confusion_matrix.ConfusionMatrixDisplay at 0x288ac196d30>"
      ]
     },
     "execution_count": 81,
     "metadata": {},
     "output_type": "execute_result"
    },
    {
     "data": {
      "image/png": "[encoded data removed]",
      "text/plain": [
       "<Figure size 720x720 with 2 Axes>"
      ]
     },
     "metadata": {
      "needs_background": "light"
     },
     "output_type": "display_data"
    }
   ],
   "source": [
    "plot_cm (logit, X_test, y_test)"
   ]
  },
  {
   "cell_type": "code",
   "execution_count": 82,
   "metadata": {},
   "outputs": [
    {
     "data": {
      "text/plain": [
       "<sklearn.metrics._plot.confusion_matrix.ConfusionMatrixDisplay at 0x288ac0aa910>"
      ]
     },
     "execution_count": 82,
     "metadata": {},
     "output_type": "execute_result"
    },
    {
     "data": {
      "image/png": "[encoded data removed]",
      "text/plain": [
       "<Figure size 720x720 with 2 Axes>"
      ]
     },
     "metadata": {
      "needs_background": "light"
     },
     "output_type": "display_data"
    }
   ],
   "source": [
    "plot_cm (best_log_mod, X_test, y_test)"
   ]
  },
  {
   "cell_type": "markdown",
   "metadata": {},
   "source": [
    "## 2. Decision Tree"
   ]
  },
  {
   "cell_type": "code",
   "execution_count": 83,
   "metadata": {},
   "outputs": [],
   "source": [
    "tree = DecisionTreeClassifier()\n",
    "tree_model = tree.fit(X_train, y_train)"
   ]
  },
  {
   "cell_type": "markdown",
   "metadata": {},
   "source": [
    "### Hyperparameter Tuning"
   ]
  },
  {
   "cell_type": "code",
   "execution_count": 84,
   "metadata": {},
   "outputs": [
    {
     "name": "stdout",
     "output_type": "stream",
     "text": [
      "Fitting 5 folds for each of 9 candidates, totalling 45 fits\n"
     ]
    },
    {
     "data": {
      "text/plain": [
       "DecisionTreeClassifier(max_depth=3, min_samples_leaf=8)"
      ]
     },
     "execution_count": 84,
     "metadata": {},
     "output_type": "execute_result"
    }
   ],
   "source": [
    "param_grid = {\n",
    "    'max_depth': [3, 5, None],\n",
    "    'min_samples_leaf': [np.random.randint(1, 10)],\n",
    "    'criterion': ['gini', 'entropy', 'log_loss']\n",
    "              }\n",
    "\n",
    "rand_search = GridSearchCV(tree, param_grid, scoring='accuracy', cv=5, verbose=True)\n",
    "\n",
    "best_tree_mod = rand_search.fit(X_train, y_train)\n",
    "\n",
    "best_tree_mod.best_estimator_"
   ]
  },
  {
   "cell_type": "markdown",
   "metadata": {},
   "source": [
    "### Performance evaluation"
   ]
  },
  {
   "cell_type": "markdown",
   "metadata": {},
   "source": [
    "#### Training data"
   ]
  },
  {
   "cell_type": "code",
   "execution_count": 85,
   "metadata": {},
   "outputs": [
    {
     "name": "stdout",
     "output_type": "stream",
     "text": [
      "Evaluating the model trained data \n",
      "\n",
      "Evaluating the Standard Model: \n",
      " RMSE: 0.0 \n",
      " accuracy score: 1.0 \n",
      "\n",
      "Evaluating the Hyperparameter Tuned model: \n",
      " RMSE: 0.26650089544451305 \n",
      " accuracy score: 0.9289772727272727\n"
     ]
    }
   ],
   "source": [
    "print ('Evaluating the model trained data \\n')\n",
    "\n",
    "# Standard\n",
    "tree_pred_train_label = tree.predict(X_train)\n",
    "accuracy = accuracy_score(y_train, tree_pred_train_label)\n",
    "\n",
    "rmse = np.sqrt(mse)\n",
    "print(f\"Evaluating the Standard Model: accuracy score: {accuracy} \\n\")\n",
    "\n",
    "# hyperparameters\n",
    "tree_pred_train_label = best_tree_mod.predict(X_train)\n",
    "accuracy = accuracy_score(y_train, tree_pred_train_label)\n",
    "\n",
    "rmse = np.sqrt(mse)\n",
    "print(f\"Evaluating the Hyperparameter Tuned model: accuracy score: {accuracy}\")"
   ]
  },
  {
   "cell_type": "markdown",
   "metadata": {},
   "source": [
    "#### Testing data"
   ]
  },
  {
   "cell_type": "code",
   "execution_count": 86,
   "metadata": {},
   "outputs": [
    {
     "name": "stdout",
     "output_type": "stream",
     "text": [
      "Evaluating the model with test data \n",
      "\n",
      "Evaluating the Standard model: \n",
      " RMSE: 0.317999364001908 \n",
      " accuracy score: 0.898876404494382 \n",
      "\n",
      "Evaluating the Hyperparameter Tuned model: \n",
      " RMSE: 0.2804490780752513 \n",
      " accuracy score: 0.9213483146067416 \n",
      "\n"
     ]
    }
   ],
   "source": [
    "print ('Evaluating the model with test data \\n')\n",
    "\n",
    "# Standard\n",
    "tree_pred_test_label = tree.predict(X_test)\n",
    "accuracy = accuracy_score(y_test, tree_pred_test_label)\n",
    "\n",
    "rmse = np.sqrt(mse)\n",
    "print(f\"Evaluating the Standard model: accuracy score: {accuracy} \\n\")\n",
    "\n",
    "# hyperparameters\n",
    "tree_pred_test_label = best_tree_mod.predict(X_test)\n",
    "accuracy = accuracy_score(y_test, tree_pred_test_label)\n",
    "\n",
    "rmse = np.sqrt(mse)\n",
    "print(f\"Evaluating the Hyperparameter Tuned model: accuracy score: {accuracy} \\n\")"
   ]
  },
  {
   "cell_type": "markdown",
   "metadata": {},
   "source": [
    "### Confusion Matrix "
   ]
  },
  {
   "cell_type": "code",
   "execution_count": 87,
   "metadata": {},
   "outputs": [
    {
     "data": {
      "text/plain": [
       "<sklearn.metrics._plot.confusion_matrix.ConfusionMatrixDisplay at 0x288ac242e20>"
      ]
     },
     "execution_count": 87,
     "metadata": {},
     "output_type": "execute_result"
    },
    {
     "data": {
      "image/png": "[encoded data removed]",
      "text/plain": [
       "<Figure size 720x720 with 2 Axes>"
      ]
     },
     "metadata": {
      "needs_background": "light"
     },
     "output_type": "display_data"
    }
   ],
   "source": [
    "plot_cm (tree, X_test, y_test)"
   ]
  },
  {
   "cell_type": "code",
   "execution_count": 88,
   "metadata": {},
   "outputs": [
    {
     "data": {
      "text/plain": [
       "<sklearn.metrics._plot.confusion_matrix.ConfusionMatrixDisplay at 0x288abf7d3a0>"
      ]
     },
     "execution_count": 88,
     "metadata": {},
     "output_type": "execute_result"
    },
    {
     "data": {
      "image/png": "[encoded data removed]",
      "text/plain": [
       "<Figure size 720x720 with 2 Axes>"
      ]
     },
     "metadata": {
      "needs_background": "light"
     },
     "output_type": "display_data"
    }
   ],
   "source": [
    "plot_cm (best_tree_mod, X_test, y_test)"
   ]
  },
  {
   "cell_type": "markdown",
   "metadata": {},
   "source": [
    "## 3. Neural Network"
   ]
  },
  {
   "cell_type": "code",
   "execution_count": 89,
   "metadata": {},
   "outputs": [],
   "source": [
    "# Standardize the data using a neural network\n",
    "\n",
    "scaler = StandardScaler()\n",
    "scaler.fit(X_train)\n",
    "\n",
    "X_train = scaler.transform(X_train)\n",
    "X_test = scaler.transform(X_test)"
   ]
  },
  {
   "cell_type": "code",
   "execution_count": 90,
   "metadata": {},
   "outputs": [
    {
     "data": {
      "text/plain": [
       "MLPClassifier()"
      ]
     },
     "execution_count": 90,
     "metadata": {},
     "output_type": "execute_result"
    }
   ],
   "source": [
    "MLP = MLPClassifier()\n",
    "MLP.fit(X_train, y_train)"
   ]
  },
  {
   "cell_type": "markdown",
   "metadata": {},
   "source": [
    "### Hyperparameter Tuning"
   ]
  },
  {
   "cell_type": "code",
   "execution_count": 91,
   "metadata": {},
   "outputs": [
    {
     "name": "stdout",
     "output_type": "stream",
     "text": [
      "Fitting 5 folds for each of 48 candidates, totalling 240 fits\n"
     ]
    },
    {
     "data": {
      "text/plain": [
       "MLPClassifier(hidden_layer_sizes=(20,))"
      ]
     },
     "execution_count": 91,
     "metadata": {},
     "output_type": "execute_result"
    }
   ],
   "source": [
    "param_grid = {\n",
    "    'hidden_layer_sizes': [(100,), (100, 100), (10, 50, 10), (20,)],\n",
    "    'activation': ['logistic', 'tanh', 'relu'],\n",
    "    # 'criterion': ['gini', 'entropy', 'log_loss'],\n",
    "    # 'alpha': [0.0001, 0.001, 0.01, 0.1, 1, 10, 100, 1000],\n",
    "    'learning_rate_init': [0.001, 0.05],\n",
    "    'solver': ['sgd', 'adam'],\n",
    "              }\n",
    "\n",
    "grid_search = GridSearchCV(MLP, param_grid, cv=5, verbose=True, n_jobs=-1)\n",
    "\n",
    "best_mlp_mod = grid_search.fit(X_train, y_train)\n",
    "\n",
    "best_mlp_mod.best_estimator_"
   ]
  },
  {
   "cell_type": "markdown",
   "metadata": {},
   "source": [
    "### Performance evaluation"
   ]
  },
  {
   "cell_type": "markdown",
   "metadata": {},
   "source": [
    "#### Training data"
   ]
  },
  {
   "cell_type": "code",
   "execution_count": 92,
   "metadata": {},
   "outputs": [
    {
     "name": "stdout",
     "output_type": "stream",
     "text": [
      "Evaluating the model trained data \n",
      "\n",
      "Evaluating the Standard Model: \n",
      " RMSE: 0.13055824196677338 \n",
      " accuracy score: 0.9829545454545454 \n",
      "\n",
      "Evaluating the Hyperparameter Tuned model: \n",
      " RMSE: 0.1767766952966369 \n",
      " accuracy score: 0.96875\n"
     ]
    }
   ],
   "source": [
    "print ('Evaluating the model trained data \\n')\n",
    "\n",
    "# Standard\n",
    "mlp_pred_train_label = MLP.predict(X_train)\n",
    "accuracy = accuracy_score(y_train, mlp_pred_train_label)\n",
    "mse = mean_squared_error(y_train, mlp_pred_train_label)\n",
    "rmse = np.sqrt(mse)\n",
    "print(f\"Evaluating the Standard Model: accuracy score: {accuracy} \\n\")\n",
    "\n",
    "# hyperparameters\n",
    "mlp_pred_train_label = best_mlp_mod.predict(X_train)\n",
    "accuracy = accuracy_score(y_train, mlp_pred_train_label)\n",
    "mse = mean_squared_error(y_train, mlp_pred_train_label)\n",
    "rmse = np.sqrt(mse)\n",
    "print(f\"Evaluating the Hyperparameter Tuned model: accuracy score: {accuracy}\")"
   ]
  },
  {
   "cell_type": "markdown",
   "metadata": {},
   "source": [
    "#### Testing data"
   ]
  },
  {
   "cell_type": "code",
   "execution_count": 93,
   "metadata": {},
   "outputs": [
    {
     "name": "stdout",
     "output_type": "stream",
     "text": [
      "Evaluating the model with test data \n",
      "\n",
      "Evaluating the Standard model: \n",
      " RMSE: 0.2804490780752513 \n",
      " accuracy score: 0.9213483146067416 \n",
      "\n",
      "Evaluating the Hyperparameter Tuned model: \n",
      " RMSE: 0.317999364001908 \n",
      " accuracy score: 0.898876404494382 \n",
      "\n"
     ]
    }
   ],
   "source": [
    "print ('Evaluating the model with test data \\n')\n",
    "\n",
    "# Standard\n",
    "mlp_pred_test_label = MLP.predict(X_test)\n",
    "accuracy = accuracy_score(y_test, mlp_pred_test_label)\n",
    "mse = mean_squared_error(y_test, mlp_pred_test_label)\n",
    "rmse = np.sqrt(mse)\n",
    "print(f\"Evaluating the Standard model: accuracy score: {accuracy} \\n\")\n",
    "\n",
    "# hyperparameters\n",
    "mlp_pred_test_label = best_mlp_mod.predict(X_test)\n",
    "accuracy = accuracy_score(y_test, mlp_pred_test_label)\n",
    "mse = mean_squared_error(y_test, mlp_pred_test_label)\n",
    "rmse = np.sqrt(mse)\n",
    "print(f\"Evaluating the Hyperparameter Tuned model: accuracy score: {accuracy} \\n\")"
   ]
  },
  {
   "cell_type": "markdown",
   "metadata": {},
   "source": [
    "### Confusion Matrix"
   ]
  },
  {
   "cell_type": "code",
   "execution_count": 94,
   "metadata": {},
   "outputs": [
    {
     "data": {
      "text/plain": [
       "<sklearn.metrics._plot.confusion_matrix.ConfusionMatrixDisplay at 0x288ad9b5dc0>"
      ]
     },
     "execution_count": 94,
     "metadata": {},
     "output_type": "execute_result"
    },
    {
     "data": {
      "image/png": "[encoded data removed]",
      "text/plain": [
       "<Figure size 720x720 with 2 Axes>"
      ]
     },
     "metadata": {
      "needs_background": "light"
     },
     "output_type": "display_data"
    }
   ],
   "source": [
    "plot_cm (MLP, X_test, y_test)"
   ]
  },
  {
   "cell_type": "code",
   "execution_count": 95,
   "metadata": {},
   "outputs": [
    {
     "data": {
      "text/plain": [
       "<sklearn.metrics._plot.confusion_matrix.ConfusionMatrixDisplay at 0x288aded34f0>"
      ]
     },
     "execution_count": 95,
     "metadata": {},
     "output_type": "execute_result"
    },
    {
     "data": {
      "image/png": "[encoded data removed]",
      "text/plain": [
       "<Figure size 720x720 with 2 Axes>"
      ]
     },
     "metadata": {
      "needs_background": "light"
     },
     "output_type": "display_data"
    }
   ],
   "source": [
    "plot_cm (best_mlp_mod, X_test, y_test)"
   ]
  },
  {
   "cell_type": "code",
   "execution_count": null,
   "metadata": {},
   "outputs": [],
   "source": []
  },
  {
   "cell_type": "code",
   "execution_count": null,
   "metadata": {},
   "outputs": [],
   "source": []
  }
 ],
 "metadata": {
  "kernelspec": {
   "display_name": "base",
   "language": "python",
   "name": "python3"
  },
  "language_info": {
   "codemirror_mode": {
    "name": "ipython",
    "version": 3
   },
   "file_extension": ".py",
   "mimetype": "text/x-python",
   "name": "python",
   "nbconvert_exporter": "python",
   "pygments_lexer": "ipython3",
   "version": "3.9.7"
  }
 },
 "nbformat": 4,
 "nbformat_minor": 2
}
